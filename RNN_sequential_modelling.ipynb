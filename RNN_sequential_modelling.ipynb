{
  "nbformat": 4,
  "nbformat_minor": 0,
  "metadata": {
    "colab": {
      "provenance": [],
      "authorship_tag": "ABX9TyMoLgZy21HSO1yfzc4EEJLT",
      "include_colab_link": true
    },
    "kernelspec": {
      "name": "python3",
      "display_name": "Python 3"
    },
    "language_info": {
      "name": "python"
    }
  },
  "cells": [
    {
      "cell_type": "markdown",
      "metadata": {
        "id": "view-in-github",
        "colab_type": "text"
      },
      "source": [
        "<a href=\"https://colab.research.google.com/github/Kish-ie/RNN-s-sequential-modelling/blob/main/RNN_sequential_modelling.ipynb\" target=\"_parent\"><img src=\"https://colab.research.google.com/assets/colab-badge.svg\" alt=\"Open In Colab\"/></a>"
      ]
    },
    {
      "cell_type": "code",
      "execution_count": 1,
      "metadata": {
        "colab": {
          "base_uri": "https://localhost:8080/"
        },
        "id": "9MK51IDeGaoj",
        "outputId": "a406c5be-67e0-4f1b-f975-7071c353ec0b"
      },
      "outputs": [
        {
          "output_type": "stream",
          "name": "stdout",
          "text": [
            "Epoch 1/20\n",
            "\u001b[1m1/1\u001b[0m \u001b[32m━━━━━━━━━━━━━━━━━━━━\u001b[0m\u001b[37m\u001b[0m \u001b[1m6s\u001b[0m 6s/step - accuracy: 0.0000e+00 - loss: 1.6098 - val_accuracy: 0.0000e+00 - val_loss: 1.5952\n",
            "Epoch 2/20\n",
            "\u001b[1m1/1\u001b[0m \u001b[32m━━━━━━━━━━━━━━━━━━━━\u001b[0m\u001b[37m\u001b[0m \u001b[1m1s\u001b[0m 568ms/step - accuracy: 0.0000e+00 - loss: 1.6006 - val_accuracy: 0.0000e+00 - val_loss: 1.5975\n",
            "Epoch 3/20\n",
            "\u001b[1m1/1\u001b[0m \u001b[32m━━━━━━━━━━━━━━━━━━━━\u001b[0m\u001b[37m\u001b[0m \u001b[1m0s\u001b[0m 315ms/step - accuracy: 1.0000 - loss: 1.6007 - val_accuracy: 1.0000 - val_loss: 1.5996\n",
            "Epoch 4/20\n",
            "\u001b[1m1/1\u001b[0m \u001b[32m━━━━━━━━━━━━━━━━━━━━\u001b[0m\u001b[37m\u001b[0m \u001b[1m0s\u001b[0m 224ms/step - accuracy: 1.0000 - loss: 1.5847 - val_accuracy: 0.0000e+00 - val_loss: 1.6016\n",
            "Epoch 5/20\n",
            "\u001b[1m1/1\u001b[0m \u001b[32m━━━━━━━━━━━━━━━━━━━━\u001b[0m\u001b[37m\u001b[0m \u001b[1m0s\u001b[0m 201ms/step - accuracy: 1.0000 - loss: 1.5730 - val_accuracy: 0.0000e+00 - val_loss: 1.6036\n",
            "Epoch 6/20\n",
            "\u001b[1m1/1\u001b[0m \u001b[32m━━━━━━━━━━━━━━━━━━━━\u001b[0m\u001b[37m\u001b[0m \u001b[1m0s\u001b[0m 341ms/step - accuracy: 1.0000 - loss: 1.5675 - val_accuracy: 0.0000e+00 - val_loss: 1.6057\n",
            "\u001b[1m1/1\u001b[0m \u001b[32m━━━━━━━━━━━━━━━━━━━━\u001b[0m\u001b[37m\u001b[0m \u001b[1m1s\u001b[0m 744ms/step\n",
            "\n",
            "Recommended product for user U1: P1\n",
            "\u001b[1m1/1\u001b[0m \u001b[32m━━━━━━━━━━━━━━━━━━━━\u001b[0m\u001b[37m\u001b[0m \u001b[1m0s\u001b[0m 37ms/step\n",
            "\n",
            "Recommended product for user U2: P4\n",
            "\u001b[1m1/1\u001b[0m \u001b[32m━━━━━━━━━━━━━━━━━━━━\u001b[0m\u001b[37m\u001b[0m \u001b[1m0s\u001b[0m 41ms/step\n",
            "\n",
            "Recommended product for user U3: P1\n",
            "\u001b[1m1/1\u001b[0m \u001b[32m━━━━━━━━━━━━━━━━━━━━\u001b[0m\u001b[37m\u001b[0m \u001b[1m0s\u001b[0m 34ms/step\n",
            "\n",
            "Recommended product for user U4: P2\n"
          ]
        },
        {
          "output_type": "execute_result",
          "data": {
            "text/plain": [
              "['product_encoder.pkl']"
            ]
          },
          "metadata": {},
          "execution_count": 1
        }
      ],
      "source": [
        "#APOLLO KIIRU IN14/00006/21\n",
        "#ALEX KAMAU IN13/00005/21\n",
        "#MWANGI ANTHONY IN13/00035/21\n",
        "#SIMON NJAU IN14/00101/21\n",
        "import numpy as np\n",
        "import pandas as pd\n",
        "import tensorflow as tf\n",
        "from tensorflow.keras.models import Sequential\n",
        "from tensorflow.keras.layers import Embedding, GRU, Dense, Dropout\n",
        "from tensorflow.keras.preprocessing.sequence import pad_sequences\n",
        "from sklearn.model_selection import train_test_split\n",
        "from sklearn.preprocessing import LabelEncoder\n",
        "import joblib\n",
        "from tensorflow.keras.callbacks import EarlyStopping\n",
        "\n",
        "# Sample data\n",
        "data = {\n",
        "    \"user_id\": [\"U1\", \"U1\", \"U1\", \"U2\", \"U2\", \"U3\", \"U3\", \"U3\", \"U4\", \"U4\"],\n",
        "    \"product_id\": [\"P1\", \"P3\", \"P4\", \"P1\", \"P2\", \"P3\", \"P4\", \"P5\", \"P2\", \"P3\"],\n",
        "}\n",
        "\n",
        "df = pd.DataFrame(data)\n",
        "\n",
        "# Encoding user and product IDs\n",
        "user_encoder = LabelEncoder()\n",
        "product_encoder = LabelEncoder()\n",
        "\n",
        "df[\"user_id\"] = user_encoder.fit_transform(df[\"user_id\"])\n",
        "df[\"product_id\"] = product_encoder.fit_transform(df[\"product_id\"])\n",
        "\n",
        "# Grouping by user and creating sequences\n",
        "user_groups = df.groupby(\"user_id\")[\"product_id\"].apply(list)\n",
        "sequences = user_groups.tolist()\n",
        "\n",
        "sequence_length = 2\n",
        "X, y = [], []\n",
        "\n",
        "for seq in sequences:\n",
        "    for i in range(len(seq) - sequence_length):\n",
        "        X.append(seq[i : i + sequence_length])\n",
        "        y.append(seq[i + sequence_length])\n",
        "\n",
        "# Padding sequences to ensure uniform length\n",
        "X = pad_sequences(X, maxlen=sequence_length, padding='pre', truncating='pre')\n",
        "y = np.array(y)\n",
        "\n",
        "# Splitting the data into training and testing sets\n",
        "X_train, X_test, y_train, y_test = train_test_split(X, y, test_size=0.2, random_state=42)\n",
        "\n",
        "# Number of unique products\n",
        "num_products = len(product_encoder.classes_)\n",
        "\n",
        "# Building a simpler model\n",
        "model = Sequential([\n",
        "    Embedding(input_dim=num_products, output_dim=16),\n",
        "    GRU(16, return_sequences=False),\n",
        "    Dropout(0.2),\n",
        "    Dense(num_products, activation=\"softmax\"),\n",
        "])\n",
        "\n",
        "# Compiling the model\n",
        "model.compile(loss=\"sparse_categorical_crossentropy\", optimizer=\"adam\", metrics=[\"accuracy\"])\n",
        "\n",
        "# Early stopping callback\n",
        "early_stopping = EarlyStopping(monitor='val_loss', patience=5, restore_best_weights=True)\n",
        "\n",
        "# Training the model\n",
        "model.fit(X_train, y_train, epochs=20, batch_size=4, validation_data=(X_test, y_test), callbacks=[early_stopping])\n",
        "\n",
        "# Function to recommend the next product\n",
        "def recommend_next_product(user_id):\n",
        "    try:\n",
        "        encoded_user = user_encoder.transform([user_id])[0]\n",
        "        user_seq = user_groups[encoded_user][-sequence_length:]\n",
        "        user_seq = pad_sequences([user_seq], maxlen=sequence_length, padding='pre', truncating='pre')\n",
        "        predicted_product_id = np.argmax(model.predict(user_seq), axis=-1)[0]\n",
        "        recommended_product = product_encoder.inverse_transform([predicted_product_id])[0]\n",
        "        return recommended_product\n",
        "    except KeyError:\n",
        "        print(f\"User ID {user_id} not found in the training data.\")\n",
        "        return None\n",
        "\n",
        "# Testing the recommendation function\n",
        "test_users = [\"U1\", \"U2\", \"U3\", \"U4\"]\n",
        "for user in test_users:\n",
        "    recommended_product = recommend_next_product(user)\n",
        "    print(f\"\\nRecommended product for user {user}: {recommended_product}\")\n",
        "\n",
        "# Save the model and encoders\n",
        "model.save('product_recommendation_model.keras')  # Using native Keras format\n",
        "joblib.dump(user_encoder, 'user_encoder.pkl')\n",
        "joblib.dump(product_encoder, 'product_encoder.pkl')"
      ]
    },
    {
      "cell_type": "code",
      "source": [],
      "metadata": {
        "id": "bNAV5pZZGeFa"
      },
      "execution_count": null,
      "outputs": []
    }
  ]
}